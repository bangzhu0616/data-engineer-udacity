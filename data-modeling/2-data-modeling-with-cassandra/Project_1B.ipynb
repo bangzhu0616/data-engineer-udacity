{
 "cells": [
  {
   "cell_type": "markdown",
   "metadata": {},
   "source": [
    "# Part I. ETL Pipeline for Pre-Processing the Files"
   ]
  },
  {
   "cell_type": "markdown",
   "metadata": {},
   "source": [
    "## PLEASE RUN THE FOLLOWING CODE FOR PRE-PROCESSING THE FILES"
   ]
  },
  {
   "cell_type": "markdown",
   "metadata": {},
   "source": [
    "#### Import Python packages "
   ]
  },
  {
   "cell_type": "code",
   "execution_count": 23,
   "metadata": {},
   "outputs": [
    {
     "name": "stdout",
     "output_type": "stream",
     "text": [
      "3.24.0\n"
     ]
    }
   ],
   "source": [
    "# Import Python packages \n",
    "import pandas as pd\n",
    "import cassandra\n",
    "import re\n",
    "import os\n",
    "import glob\n",
    "import numpy as np\n",
    "import json\n",
    "import csv\n",
    "print(cassandra.__version__)"
   ]
  },
  {
   "cell_type": "markdown",
   "metadata": {},
   "source": [
    "#### Creating list of filepaths to process original event csv data files"
   ]
  },
  {
   "cell_type": "code",
   "execution_count": 24,
   "metadata": {},
   "outputs": [],
   "source": [
    "# checking your current working directory\n",
    "# print(os.getcwd())\n",
    "\n",
    "# Get your current folder and subfolder event data\n",
    "filepath = os.getcwd() + '/event_data'\n",
    "\n",
    "# Create a for loop to create a list of files and collect each filepath\n",
    "for root, dirs, files in os.walk(filepath):\n",
    "    \n",
    "# join the file path and roots with the subdirectories using glob\n",
    "    file_path_list = glob.glob(os.path.join(root,'*'))\n",
    "    # print(file_path_list)"
   ]
  },
  {
   "cell_type": "markdown",
   "metadata": {},
   "source": [
    "#### Processing the files to create the data file csv that will be used for Apache Casssandra tables"
   ]
  },
  {
   "cell_type": "code",
   "execution_count": 25,
   "metadata": {},
   "outputs": [
    {
     "name": "stdout",
     "output_type": "stream",
     "text": [
      "643\n"
     ]
    }
   ],
   "source": [
    "# initiating an empty list of rows that will be generated from each file\n",
    "full_data_rows_list = [] \n",
    "    \n",
    "# for every filepath in the file path list \n",
    "for f in file_path_list:\n",
    "# reading csv file \n",
    "    with open(f, 'r', encoding = 'utf8', newline='') as csvfile: \n",
    "        # creating a csv reader object \n",
    "        csvreader = csv.reader(csvfile) \n",
    "        next(csvreader)\n",
    "        \n",
    " # extracting each data row one by one and append it        \n",
    "        for line in csvreader:\n",
    "            #print(line)\n",
    "            full_data_rows_list.append(line) \n",
    "            \n",
    "# uncomment the code below if you would like to get total number of rows \n",
    "print(len(full_data_rows_list))\n",
    "# uncomment the code below if you would like to check to see what the list of event data rows will look like\n",
    "# print(full_data_rows_list)\n",
    "\n",
    "# creating a smaller event data csv file called event_datafile_full csv that will be used to insert data into the \\\n",
    "# Apache Cassandra tables\n",
    "csv.register_dialect('myDialect', quoting=csv.QUOTE_ALL, skipinitialspace=True)\n",
    "\n",
    "with open('event_datafile_new.csv', 'w', encoding = 'utf8', newline='') as f:\n",
    "    writer = csv.writer(f, dialect='myDialect')\n",
    "    writer.writerow(['artist','firstName','gender','itemInSession','lastName','length',\\\n",
    "                'level','location','sessionId','song','userId'])\n",
    "    for row in full_data_rows_list:\n",
    "        if (row[0] == ''):\n",
    "            continue\n",
    "        writer.writerow((row[0], row[2], row[3], row[4], row[5], row[6], row[7], row[8], row[12], row[13], row[16]))\n"
   ]
  },
  {
   "cell_type": "code",
   "execution_count": 26,
   "metadata": {},
   "outputs": [
    {
     "name": "stdout",
     "output_type": "stream",
     "text": [
      "549\n"
     ]
    }
   ],
   "source": [
    "# check the number of rows in your csv file\n",
    "with open('event_datafile_new.csv', 'r', encoding = 'utf8') as f:\n",
    "    print(sum(1 for line in f))"
   ]
  },
  {
   "cell_type": "markdown",
   "metadata": {},
   "source": [
    "# Part II. Complete the Apache Cassandra coding portion of your project. \n",
    "\n",
    "## Now you are ready to work with the CSV file titled <font color=red>event_datafile_new.csv</font>, located within the Workspace directory.  The event_datafile_new.csv contains the following columns: \n",
    "- artist \n",
    "- firstName of user\n",
    "- gender of user\n",
    "- item number in session\n",
    "- last name of user\n",
    "- length of the song\n",
    "- level (paid or free song)\n",
    "- location of the user\n",
    "- sessionId\n",
    "- song title\n",
    "- userId\n",
    "\n",
    "The image below is a screenshot of what the denormalized data should appear like in the <font color=red>**event_datafile_new.csv**</font> after the code above is run:<br>\n",
    "\n",
    "<img src=\"images/image_event_datafile_new.jpg\">"
   ]
  },
  {
   "cell_type": "markdown",
   "metadata": {},
   "source": [
    "## Begin writing your Apache Cassandra code in the cells below"
   ]
  },
  {
   "cell_type": "markdown",
   "metadata": {},
   "source": [
    "#### Creating a Cluster"
   ]
  },
  {
   "cell_type": "code",
   "execution_count": 29,
   "metadata": {},
   "outputs": [],
   "source": [
    "# This should make a connection to a Cassandra instance your local machine \n",
    "# (127.0.0.1)\n",
    "\n",
    "from cassandra.cluster import Cluster\n",
    "cluster = Cluster(['127.0.0.1'])\n",
    "\n",
    "# To establish connection and begin executing queries, need a session\n",
    "session = cluster.connect()"
   ]
  },
  {
   "cell_type": "markdown",
   "metadata": {},
   "source": [
    "#### Create Keyspace"
   ]
  },
  {
   "cell_type": "code",
   "execution_count": 31,
   "metadata": {},
   "outputs": [],
   "source": [
    "# TO-DO: Create a Keyspace \n",
    "try:\n",
    "    session.execute(\"\"\"\n",
    "        CREATE KEYSPACE IF NOT EXISTS sparkify\n",
    "        WITH REPLICATION = \n",
    "        {'class' : 'SimpleStrategy', 'replication_factor': 1}\n",
    "    \"\"\")\n",
    "except Exception as e:\n",
    "    print(e)"
   ]
  },
  {
   "cell_type": "markdown",
   "metadata": {},
   "source": [
    "#### Set Keyspace"
   ]
  },
  {
   "cell_type": "code",
   "execution_count": 32,
   "metadata": {},
   "outputs": [],
   "source": [
    "# TO-DO: Set KEYSPACE to the keyspace specified above\n",
    "try:\n",
    "    session.set_keyspace('sparkify')\n",
    "except Exception as e:\n",
    "    print(e)"
   ]
  },
  {
   "cell_type": "markdown",
   "metadata": {},
   "source": [
    "### Now we need to create tables to run the following queries. Remember, with Apache Cassandra you model the database tables on the queries you want to run."
   ]
  },
  {
   "cell_type": "markdown",
   "metadata": {},
   "source": [
    "## Create queries to ask the following three questions of the data\n",
    "\n",
    "### 1. Give me the artist, song title and song's length in the music app history that was heard during  sessionId = 338, and itemInSession  = 4\n",
    "\n",
    "\n",
    "### 2. Give me only the following: name of artist, song (sorted by itemInSession) and user (first and last name) for userid = 10, sessionid = 182\n",
    "    \n",
    "\n",
    "### 3. Give me every user name (first and last) in my music app history who listened to the song 'All Hands Against His Own'\n",
    "\n",
    "\n"
   ]
  },
  {
   "cell_type": "code",
   "execution_count": 34,
   "metadata": {},
   "outputs": [],
   "source": [
    "create_table = \"create table if not exists songs\"\n",
    "create_table = create_table + '(session_id int, item_in_session int, artist text, song_title text, song_length float, primary key(session_id, item_in_session))'\n",
    "\n",
    "try:\n",
    "    session.execute(create_table)\n",
    "except Exception as e:\n",
    "    print(e)"
   ]
  },
  {
   "cell_type": "code",
   "execution_count": 60,
   "metadata": {},
   "outputs": [],
   "source": [
    "## TO-DO: Query 1:  Give me the artist, song title and song's length in the music app history that was heard during \\\n",
    "## sessionId = 338, and itemInSession = 4\n",
    "\n",
    "query_1 = 'select artist, song_title, song_length from songs where session_id=%s and item_in_session=%s'\n",
    "                    "
   ]
  },
  {
   "cell_type": "code",
   "execution_count": 35,
   "metadata": {},
   "outputs": [],
   "source": [
    "# We have provided part of the code to set up the CSV file. Please complete the Apache Cassandra code below#\n",
    "file = 'event_datafile_new.csv'\n",
    "\n",
    "with open(file, encoding = 'utf8') as f:\n",
    "    csvreader = csv.reader(f)\n",
    "    next(csvreader) # skip header\n",
    "    for line in csvreader:\n",
    "## TO-DO: Assign the INSERT statements into the `query` variable\n",
    "        query = \"insert into songs(session_id, item_in_session, artist, song_title, song_length)\"\n",
    "        query = query + \"values (%s, %s, %s, %s, %s)\"\n",
    "        ## TO-DO: Assign which column element should be assigned for each column in the INSERT statement.\n",
    "        ## For e.g., to INSERT artist_name and user first_name, you would change the code below to `line[0], line[1]`\n",
    "        session.execute(query, (int(line[8]), int(line[3]), line[0], line[9], float(line[5])))"
   ]
  },
  {
   "cell_type": "markdown",
   "metadata": {},
   "source": [
    "#### Do a SELECT to verify that the data have been inserted into each table"
   ]
  },
  {
   "cell_type": "code",
   "execution_count": 61,
   "metadata": {
    "scrolled": true
   },
   "outputs": [
    {
     "name": "stdout",
     "output_type": "stream",
     "text": [
      "Row(artist='Martina Topley Bird', song_title='Poison', song_length=177.08363342285156)\n"
     ]
    }
   ],
   "source": [
    "## TO-DO: Add in the SELECT statement to verify the data was entered into the table\n",
    "try:\n",
    "    rows = session.execute(query_1, (818, 34))\n",
    "except Exception as e:\n",
    "    print(e)\n",
    "    \n",
    "for row in rows:\n",
    "    print(row)"
   ]
  },
  {
   "cell_type": "markdown",
   "metadata": {},
   "source": [
    "### COPY AND REPEAT THE ABOVE THREE CELLS FOR EACH OF THE THREE QUESTIONS"
   ]
  },
  {
   "cell_type": "code",
   "execution_count": 44,
   "metadata": {},
   "outputs": [],
   "source": [
    "## TO-DO: Query 2: Give me only the following: name of artist, song (sorted by itemInSession) and user (first and last name)\\\n",
    "## for userid = 10, sessionid = 182\n",
    "create_table_2 = 'create table if not exists artists'\n",
    "create_table_2 = create_table_2 + '(user_id int, session_id int, item_in_session int, artist_name text, song_title text, user_first_name text, user_last_name text, primary key(user_id, session_id, item_in_session))'\n",
    "\n",
    "try:\n",
    "    session.execute(create_table_2)\n",
    "except Exception as e:\n",
    "    print(e)"
   ]
  },
  {
   "cell_type": "code",
   "execution_count": 51,
   "metadata": {},
   "outputs": [],
   "source": [
    "query_2 = 'select artist_name, song_title, user_first_name, user_last_name from artists where user_id=%s and session_id=%s'"
   ]
  },
  {
   "cell_type": "code",
   "execution_count": 47,
   "metadata": {},
   "outputs": [],
   "source": [
    "file = 'event_datafile_new.csv'\n",
    "\n",
    "with open(file, encoding = 'utf8') as f:\n",
    "    csvreader = csv.reader(f)\n",
    "    next(csvreader) # skip header\n",
    "    for line in csvreader:\n",
    "        query = \"insert into artists(user_id, session_id, item_in_session, artist_name, song_title, user_first_name, user_last_name)\"\n",
    "        query = query + \"values (%s, %s, %s, %s, %s, %s, %s)\"\n",
    "        session.execute(query, (int(line[10]), int(line[8]), int(line[3]), line[0], line[9], line[1], line[4]))"
   ]
  },
  {
   "cell_type": "code",
   "execution_count": 52,
   "metadata": {},
   "outputs": [
    {
     "name": "stdout",
     "output_type": "stream",
     "text": [
      "Row(artist_name='The Rascals', song_title='People Got To Be Free', user_first_name='Chloe', user_last_name='Cuevas')\n",
      "Row(artist_name='A Day To Remember', song_title='My Life For Hire', user_first_name='Chloe', user_last_name='Cuevas')\n",
      "Row(artist_name='Barry Tuckwell/Academy of St Martin-in-the-Fields/Sir Neville Marriner', song_title='Horn Concerto No. 4 in E flat K495: II. Romance (Andante cantabile)', user_first_name='Chloe', user_last_name='Cuevas')\n",
      "Row(artist_name='Train', song_title='Shelter Me', user_first_name='Chloe', user_last_name='Cuevas')\n",
      "Row(artist_name=\"Guns N' Roses\", song_title='Sympathy For The Devil', user_first_name='Chloe', user_last_name='Cuevas')\n",
      "Row(artist_name='Kings Of Leon', song_title='Revelry', user_first_name='Chloe', user_last_name='Cuevas')\n",
      "Row(artist_name=\"The Pretend It's December Choir\", song_title=\"It's Christmas So We'll Stop (Choir Version)\", user_first_name='Chloe', user_last_name='Cuevas')\n",
      "Row(artist_name='Vampire Weekend', song_title='Giving Up The Gun', user_first_name='Chloe', user_last_name='Cuevas')\n",
      "Row(artist_name='Great White', song_title='House Of Broken Love', user_first_name='Chloe', user_last_name='Cuevas')\n",
      "Row(artist_name='Avril Lavigne', song_title=\"When You're Gone\", user_first_name='Chloe', user_last_name='Cuevas')\n",
      "Row(artist_name='Metronomy', song_title='Heartbreaker [Discodeine Remix]', user_first_name='Chloe', user_last_name='Cuevas')\n",
      "Row(artist_name='Zero 7', song_title='Mr McGee', user_first_name='Chloe', user_last_name='Cuevas')\n",
      "Row(artist_name='Snow Patrol', song_title='Shut Your Eyes', user_first_name='Chloe', user_last_name='Cuevas')\n",
      "Row(artist_name='Curtis Mayfield', song_title='Hey_ Baby_ Give It To Me All', user_first_name='Chloe', user_last_name='Cuevas')\n",
      "Row(artist_name='Steve Lukather', song_title=\"Jammin' With Jesus\", user_first_name='Chloe', user_last_name='Cuevas')\n",
      "Row(artist_name='Amy Winehouse', song_title='Fuck Me Pumps', user_first_name='Chloe', user_last_name='Cuevas')\n",
      "Row(artist_name='Modest Mouse', song_title='Fire It Up', user_first_name='Chloe', user_last_name='Cuevas')\n",
      "Row(artist_name='Jel', song_title='No Solution', user_first_name='Chloe', user_last_name='Cuevas')\n",
      "Row(artist_name='Tab Benoit', song_title='Jambalaya', user_first_name='Chloe', user_last_name='Cuevas')\n",
      "Row(artist_name='Old Crow Medicine Show', song_title='Wagon Wheel', user_first_name='Chloe', user_last_name='Cuevas')\n",
      "Row(artist_name='Sisqo', song_title='Thong Song', user_first_name='Chloe', user_last_name='Cuevas')\n",
      "Row(artist_name='Metallica', song_title='One', user_first_name='Chloe', user_last_name='Cuevas')\n",
      "Row(artist_name='Marilyn Manson', song_title='Angel With The Scabbed Wings', user_first_name='Chloe', user_last_name='Cuevas')\n",
      "Row(artist_name='Candy Dulfer', song_title='Big Girl', user_first_name='Chloe', user_last_name='Cuevas')\n",
      "Row(artist_name='Sam Paglia', song_title='The Day Lo Bianco Left Sicily', user_first_name='Chloe', user_last_name='Cuevas')\n",
      "Row(artist_name='John Mayer', song_title=\"St. Patrick's Day\", user_first_name='Chloe', user_last_name='Cuevas')\n",
      "Row(artist_name='Van Der Graaf Generator', song_title='Killer', user_first_name='Chloe', user_last_name='Cuevas')\n",
      "Row(artist_name='Guus Meeuwis', song_title='Laat Mij In Die Waan', user_first_name='Chloe', user_last_name='Cuevas')\n",
      "Row(artist_name='Support Lesbiens', song_title=\"Fisherman's Friend\", user_first_name='Chloe', user_last_name='Cuevas')\n",
      "Row(artist_name='Carmen Consoli', song_title='Piccolo Cesare', user_first_name='Chloe', user_last_name='Cuevas')\n",
      "Row(artist_name='The Dear Hunter', song_title='Blood Of The Rose', user_first_name='Chloe', user_last_name='Cuevas')\n",
      "Row(artist_name='Espers', song_title='Flaming Telepaths', user_first_name='Chloe', user_last_name='Cuevas')\n",
      "Row(artist_name='Disturbed', song_title='The Game (Amended Version)', user_first_name='Chloe', user_last_name='Cuevas')\n",
      "Row(artist_name='Skream', song_title='Tortured Soul', user_first_name='Chloe', user_last_name='Cuevas')\n",
      "Row(artist_name='Kings Of Leon', song_title=\"Molly's Chambers\", user_first_name='Chloe', user_last_name='Cuevas')\n",
      "Row(artist_name='Joy Division', song_title='The Eternal', user_first_name='Chloe', user_last_name='Cuevas')\n",
      "Row(artist_name='David Darling', song_title='Minor Blue', user_first_name='Chloe', user_last_name='Cuevas')\n",
      "Row(artist_name='Cloud Cult', song_title='May Your Hearts Stay Strong', user_first_name='Chloe', user_last_name='Cuevas')\n",
      "Row(artist_name='FRANK T', song_title='Ele', user_first_name='Chloe', user_last_name='Cuevas')\n",
      "Row(artist_name='Alceu ValenÃ\\x83Â§a', song_title='Recado Falado (MetrÃ\\x83Â´ Da Saudade)', user_first_name='Chloe', user_last_name='Cuevas')\n",
      "Row(artist_name='Tom Waits', song_title='Flash Pan Hunter', user_first_name='Chloe', user_last_name='Cuevas')\n",
      "Row(artist_name='Jill Scott', song_title='Crown Royal', user_first_name='Chloe', user_last_name='Cuevas')\n",
      "Row(artist_name='The Temptations', song_title=\"Ball Of Confusion (That's What The World Is Today)\", user_first_name='Chloe', user_last_name='Cuevas')\n",
      "Row(artist_name='Incubus', song_title='Warning', user_first_name='Chloe', user_last_name='Cuevas')\n",
      "Row(artist_name='Band Of Horses', song_title='Compliments', user_first_name='Chloe', user_last_name='Cuevas')\n",
      "Row(artist_name='Stephan Micus', song_title='Shen Khar Venakhi', user_first_name='Chloe', user_last_name='Cuevas')\n",
      "Row(artist_name='Pavement', song_title='Mercy:The Laundromat', user_first_name='Chloe', user_last_name='Cuevas')\n",
      "Row(artist_name='Manolo Otero', song_title='QuÃ\\x83Â© He De Hacer Para Olvidarte', user_first_name='Chloe', user_last_name='Cuevas')\n",
      "Row(artist_name='Randy Crawford', song_title='Rainy Night In Georgia (Album Version )', user_first_name='Chloe', user_last_name='Cuevas')\n",
      "Row(artist_name='Parkway Drive', song_title='Horizons', user_first_name='Chloe', user_last_name='Cuevas')\n",
      "Row(artist_name='Radiohead', song_title='Subterranean Homesick Alien', user_first_name='Chloe', user_last_name='Cuevas')\n"
     ]
    }
   ],
   "source": [
    "try:\n",
    "    rows = session.execute(query_2, (49, 816))\n",
    "except Exception as e:\n",
    "    print(e)\n",
    "    \n",
    "for row in rows:\n",
    "    print(row)"
   ]
  },
  {
   "cell_type": "code",
   "execution_count": 54,
   "metadata": {},
   "outputs": [],
   "source": [
    "## TO-DO: Query 3: Give me every user name (first and last) in my music app history who listened to the song 'All Hands Against His Own'\n",
    "create_table_3 = 'create table if not exists users'\n",
    "create_table_3 = create_table_3 + '(song_title text, user_id int, user_first_name text, user_last_name text, primary key((song_title), user_id))'\n",
    "\n",
    "try:\n",
    "    session.execute(create_table_3)\n",
    "except Exception as e:\n",
    "    print(e)\n",
    "                    "
   ]
  },
  {
   "cell_type": "code",
   "execution_count": 55,
   "metadata": {},
   "outputs": [],
   "source": [
    "query_3 = 'select user_first_name, user_last_name from users where song_title=%s'"
   ]
  },
  {
   "cell_type": "code",
   "execution_count": 57,
   "metadata": {},
   "outputs": [],
   "source": [
    "file = 'event_datafile_new.csv'\n",
    "\n",
    "with open(file, encoding = 'utf8') as f:\n",
    "    csvreader = csv.reader(f)\n",
    "    next(csvreader) # skip header\n",
    "    for line in csvreader:\n",
    "        query = \"insert into users(song_title, user_id, user_first_name, user_last_name)\"\n",
    "        query = query + \"values (%s, %s, %s, %s)\"\n",
    "        session.execute(query, (line[9], int(line[10]), line[1], line[4]))"
   ]
  },
  {
   "cell_type": "code",
   "execution_count": 59,
   "metadata": {},
   "outputs": [
    {
     "name": "stdout",
     "output_type": "stream",
     "text": [
      "Row(user_first_name='Sara', user_last_name='Johnson')\n"
     ]
    }
   ],
   "source": [
    "try:\n",
    "    rows = session.execute(query_3, ('All Hands Against His Own',))\n",
    "except Exception as e:\n",
    "    print(e)\n",
    "    \n",
    "for row in rows:\n",
    "    print(row)"
   ]
  },
  {
   "cell_type": "markdown",
   "metadata": {},
   "source": [
    "### Drop the tables before closing out the sessions"
   ]
  },
  {
   "cell_type": "code",
   "execution_count": 62,
   "metadata": {},
   "outputs": [
    {
     "data": {
      "text/plain": [
       "<cassandra.cluster.ResultSet at 0x118e9ffa0>"
      ]
     },
     "execution_count": 62,
     "metadata": {},
     "output_type": "execute_result"
    }
   ],
   "source": [
    "## TO-DO: Drop the table before closing out the sessions\n",
    "session.execute(\"DROP TABLE IF EXISTS songs\")\n",
    "session.execute(\"DROP TABLE IF EXISTS artists\")\n",
    "session.execute(\"DROP TABLE IF EXISTS users\")"
   ]
  },
  {
   "cell_type": "code",
   "execution_count": null,
   "metadata": {},
   "outputs": [],
   "source": []
  },
  {
   "cell_type": "markdown",
   "metadata": {},
   "source": [
    "### Close the session and cluster connection¶"
   ]
  },
  {
   "cell_type": "code",
   "execution_count": 63,
   "metadata": {},
   "outputs": [],
   "source": [
    "session.shutdown()\n",
    "cluster.shutdown()"
   ]
  },
  {
   "cell_type": "code",
   "execution_count": null,
   "metadata": {},
   "outputs": [],
   "source": []
  },
  {
   "cell_type": "code",
   "execution_count": null,
   "metadata": {},
   "outputs": [],
   "source": []
  }
 ],
 "metadata": {
  "kernelspec": {
   "display_name": "3.8data",
   "language": "python",
   "name": "3.8data"
  },
  "language_info": {
   "codemirror_mode": {
    "name": "ipython",
    "version": 3
   },
   "file_extension": ".py",
   "mimetype": "text/x-python",
   "name": "python",
   "nbconvert_exporter": "python",
   "pygments_lexer": "ipython3",
   "version": "3.8.7"
  }
 },
 "nbformat": 4,
 "nbformat_minor": 4
}
