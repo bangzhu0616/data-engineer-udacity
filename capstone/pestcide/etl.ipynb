{
 "cells": [
  {
   "cell_type": "markdown",
   "id": "industrial-conviction",
   "metadata": {},
   "source": []
  },
  {
   "cell_type": "markdown",
   "id": "suspected-gasoline",
   "metadata": {},
   "source": [
    "# ETL Processes"
   ]
  },
  {
   "cell_type": "code",
   "execution_count": 1,
   "id": "light-college",
   "metadata": {},
   "outputs": [],
   "source": [
    "import os\n",
    "import glob\n",
    "import psycopg2\n",
    "import pandas as pd\n",
    "from sql_queries import *"
   ]
  },
  {
   "cell_type": "code",
   "execution_count": 2,
   "id": "loved-fiber",
   "metadata": {},
   "outputs": [],
   "source": [
    "conn = psycopg2.connect(\"host=127.0.0.1 dbname=pestcidedb user=bangzhu\")\n",
    "cur = conn.cursor()"
   ]
  },
  {
   "cell_type": "code",
   "execution_count": 3,
   "id": "experienced-gospel",
   "metadata": {},
   "outputs": [],
   "source": [
    "def get_files(filepath):\n",
    "    all_files = []\n",
    "    for root, dirs, files in os.walk(filepath):\n",
    "        files = glob.glob(os.path.join(root,'*.csv'))\n",
    "        for f in files :\n",
    "            all_files.append(os.path.abspath(f))\n",
    "    \n",
    "    return all_files"
   ]
  },
  {
   "cell_type": "markdown",
   "id": "catholic-apple",
   "metadata": {},
   "source": [
    "## Explore pestcide_data and dictionary"
   ]
  },
  {
   "cell_type": "code",
   "execution_count": 4,
   "id": "returning-consultancy",
   "metadata": {},
   "outputs": [],
   "source": [
    "pestcide_files = [f for f in get_files('data') if not f.endswith('dictionary.csv')]"
   ]
  },
  {
   "cell_type": "code",
   "execution_count": 5,
   "id": "external-talent",
   "metadata": {},
   "outputs": [
    {
     "name": "stdout",
     "output_type": "stream",
     "text": [
      "/Users/bangzhu/study/data/capstone/pestcide/data/2015.csv\n"
     ]
    }
   ],
   "source": [
    "filepath = pestcide_files[0]\n",
    "print(filepath)"
   ]
  },
  {
   "cell_type": "code",
   "execution_count": 6,
   "id": "oriented-bikini",
   "metadata": {},
   "outputs": [
    {
     "data": {
      "text/html": [
       "<div>\n",
       "<style scoped>\n",
       "    .dataframe tbody tr th:only-of-type {\n",
       "        vertical-align: middle;\n",
       "    }\n",
       "\n",
       "    .dataframe tbody tr th {\n",
       "        vertical-align: top;\n",
       "    }\n",
       "\n",
       "    .dataframe thead th {\n",
       "        text-align: right;\n",
       "    }\n",
       "</style>\n",
       "<table border=\"1\" class=\"dataframe\">\n",
       "  <thead>\n",
       "    <tr style=\"text-align: right;\">\n",
       "      <th></th>\n",
       "      <th>compound_name</th>\n",
       "      <th>year</th>\n",
       "      <th>state_code</th>\n",
       "      <th>county_code</th>\n",
       "      <th>low_est</th>\n",
       "      <th>high_est</th>\n",
       "    </tr>\n",
       "  </thead>\n",
       "  <tbody>\n",
       "    <tr>\n",
       "      <th>0</th>\n",
       "      <td>1-Methyl Cyclopropene</td>\n",
       "      <td>2015</td>\n",
       "      <td>41</td>\n",
       "      <td>1</td>\n",
       "      <td>NaN</td>\n",
       "      <td>0.0</td>\n",
       "    </tr>\n",
       "    <tr>\n",
       "      <th>1</th>\n",
       "      <td>1-Methyl Cyclopropene</td>\n",
       "      <td>2015</td>\n",
       "      <td>41</td>\n",
       "      <td>21</td>\n",
       "      <td>NaN</td>\n",
       "      <td>0.1</td>\n",
       "    </tr>\n",
       "    <tr>\n",
       "      <th>2</th>\n",
       "      <td>1-Methyl Cyclopropene</td>\n",
       "      <td>2015</td>\n",
       "      <td>41</td>\n",
       "      <td>27</td>\n",
       "      <td>NaN</td>\n",
       "      <td>1.7</td>\n",
       "    </tr>\n",
       "    <tr>\n",
       "      <th>3</th>\n",
       "      <td>1-Methyl Cyclopropene</td>\n",
       "      <td>2015</td>\n",
       "      <td>41</td>\n",
       "      <td>49</td>\n",
       "      <td>NaN</td>\n",
       "      <td>0.1</td>\n",
       "    </tr>\n",
       "    <tr>\n",
       "      <th>4</th>\n",
       "      <td>1-Methyl Cyclopropene</td>\n",
       "      <td>2015</td>\n",
       "      <td>41</td>\n",
       "      <td>55</td>\n",
       "      <td>NaN</td>\n",
       "      <td>0.0</td>\n",
       "    </tr>\n",
       "  </tbody>\n",
       "</table>\n",
       "</div>"
      ],
      "text/plain": [
       "           compound_name  year  state_code  county_code  low_est  high_est\n",
       "0  1-Methyl Cyclopropene  2015          41            1      NaN       0.0\n",
       "1  1-Methyl Cyclopropene  2015          41           21      NaN       0.1\n",
       "2  1-Methyl Cyclopropene  2015          41           27      NaN       1.7\n",
       "3  1-Methyl Cyclopropene  2015          41           49      NaN       0.1\n",
       "4  1-Methyl Cyclopropene  2015          41           55      NaN       0.0"
      ]
     },
     "execution_count": 6,
     "metadata": {},
     "output_type": "execute_result"
    }
   ],
   "source": [
    "df = pd.read_csv(filepath)\n",
    "df.head()"
   ]
  },
  {
   "cell_type": "code",
   "execution_count": 7,
   "id": "studied-yahoo",
   "metadata": {},
   "outputs": [
    {
     "name": "stdout",
     "output_type": "stream",
     "text": [
      "/Users/bangzhu/study/data/capstone/pestcide/data/dictionary.json\n"
     ]
    }
   ],
   "source": [
    "county_dictionary_file = os.getcwd() + '/data/dictionary.json'\n",
    "print(county_dictionary_file)"
   ]
  },
  {
   "cell_type": "code",
   "execution_count": 8,
   "id": "virtual-smooth",
   "metadata": {},
   "outputs": [
    {
     "data": {
      "text/html": [
       "<div>\n",
       "<style scoped>\n",
       "    .dataframe tbody tr th:only-of-type {\n",
       "        vertical-align: middle;\n",
       "    }\n",
       "\n",
       "    .dataframe tbody tr th {\n",
       "        vertical-align: top;\n",
       "    }\n",
       "\n",
       "    .dataframe thead th {\n",
       "        text-align: right;\n",
       "    }\n",
       "</style>\n",
       "<table border=\"1\" class=\"dataframe\">\n",
       "  <thead>\n",
       "    <tr style=\"text-align: right;\">\n",
       "      <th></th>\n",
       "      <th>state_code</th>\n",
       "      <th>county_code</th>\n",
       "      <th>county_name</th>\n",
       "      <th>state_name</th>\n",
       "    </tr>\n",
       "  </thead>\n",
       "  <tbody>\n",
       "    <tr>\n",
       "      <th>0</th>\n",
       "      <td>1</td>\n",
       "      <td>1</td>\n",
       "      <td>Autauga County</td>\n",
       "      <td>AL</td>\n",
       "    </tr>\n",
       "    <tr>\n",
       "      <th>1</th>\n",
       "      <td>1</td>\n",
       "      <td>3</td>\n",
       "      <td>Baldwin County</td>\n",
       "      <td>AL</td>\n",
       "    </tr>\n",
       "    <tr>\n",
       "      <th>2</th>\n",
       "      <td>1</td>\n",
       "      <td>5</td>\n",
       "      <td>Barbour County</td>\n",
       "      <td>AL</td>\n",
       "    </tr>\n",
       "    <tr>\n",
       "      <th>3</th>\n",
       "      <td>1</td>\n",
       "      <td>7</td>\n",
       "      <td>Bibb County</td>\n",
       "      <td>AL</td>\n",
       "    </tr>\n",
       "    <tr>\n",
       "      <th>4</th>\n",
       "      <td>1</td>\n",
       "      <td>9</td>\n",
       "      <td>Blount County</td>\n",
       "      <td>AL</td>\n",
       "    </tr>\n",
       "  </tbody>\n",
       "</table>\n",
       "</div>"
      ],
      "text/plain": [
       "   state_code  county_code     county_name state_name\n",
       "0           1            1  Autauga County         AL\n",
       "1           1            3  Baldwin County         AL\n",
       "2           1            5  Barbour County         AL\n",
       "3           1            7     Bibb County         AL\n",
       "4           1            9   Blount County         AL"
      ]
     },
     "execution_count": 8,
     "metadata": {},
     "output_type": "execute_result"
    }
   ],
   "source": [
    "county_df = pd.read_json(county_dictionary_file)\n",
    "county_df.head()"
   ]
  },
  {
   "cell_type": "markdown",
   "id": "sized-jamaica",
   "metadata": {},
   "source": [
    "## Process pestcide_data"
   ]
  },
  {
   "cell_type": "markdown",
   "id": "effective-search",
   "metadata": {},
   "source": [
    "### #1 `compounds` Table"
   ]
  },
  {
   "cell_type": "code",
   "execution_count": 12,
   "id": "dependent-mixture",
   "metadata": {},
   "outputs": [
    {
     "data": {
      "text/plain": [
       "['2,4-D']"
      ]
     },
     "execution_count": 12,
     "metadata": {},
     "output_type": "execute_result"
    }
   ],
   "source": [
    "compound_data = df[df['compound_name']=='2,4-D'][['compound_name']].values[0].tolist()\n",
    "compound_data"
   ]
  },
  {
   "cell_type": "code",
   "execution_count": 13,
   "id": "hazardous-davis",
   "metadata": {},
   "outputs": [],
   "source": [
    "compound_data = compound_data*2\n",
    "cur.execute(compound_table_insert, compound_data)\n",
    "conn.commit()"
   ]
  },
  {
   "cell_type": "markdown",
   "id": "broken-irish",
   "metadata": {},
   "source": [
    "### #2 `state` Table"
   ]
  },
  {
   "cell_type": "code",
   "execution_count": 14,
   "id": "welcome-russian",
   "metadata": {},
   "outputs": [
    {
     "data": {
      "text/plain": [
       "[1, 'AL']"
      ]
     },
     "execution_count": 14,
     "metadata": {},
     "output_type": "execute_result"
    }
   ],
   "source": [
    "state_data = county_df[['state_code', 'state_name']].values[0].tolist()\n",
    "state_data"
   ]
  },
  {
   "cell_type": "code",
   "execution_count": 15,
   "id": "optional-negotiation",
   "metadata": {},
   "outputs": [],
   "source": [
    "cur.execute(state_table_insert, state_data)\n",
    "conn.commit()"
   ]
  },
  {
   "cell_type": "markdown",
   "id": "unique-recruitment",
   "metadata": {},
   "source": [
    "### #3 `county` Table"
   ]
  },
  {
   "cell_type": "code",
   "execution_count": 16,
   "id": "coupled-ethics",
   "metadata": {},
   "outputs": [
    {
     "data": {
      "text/plain": [
       "[1, 1, 'Autauga County']"
      ]
     },
     "execution_count": 16,
     "metadata": {},
     "output_type": "execute_result"
    }
   ],
   "source": [
    "county_data = county_df[['state_code', 'county_code', 'county_name']].values[0].tolist()\n",
    "county_data"
   ]
  },
  {
   "cell_type": "code",
   "execution_count": 17,
   "id": "greatest-walnut",
   "metadata": {},
   "outputs": [],
   "source": [
    "county_data = county_data + [county_data[0], county_data[1]]\n",
    "cur.execute(county_table_insert, county_data)\n",
    "conn.commit()"
   ]
  },
  {
   "cell_type": "markdown",
   "id": "deluxe-running",
   "metadata": {},
   "source": [
    "### #4 `pestcide_usage` Table"
   ]
  },
  {
   "cell_type": "code",
   "execution_count": 18,
   "id": "terminal-plate",
   "metadata": {},
   "outputs": [
    {
     "data": {
      "text/plain": [
       "['2,4-D', 2015, 1, 1, 3243.5, 3363.2]"
      ]
     },
     "execution_count": 18,
     "metadata": {},
     "output_type": "execute_result"
    }
   ],
   "source": [
    "pestcide_data = df.loc[(df['state_code']==1) & (df['county_code']==1) & (df['compound_name']=='2,4-D')].values[0].tolist()\n",
    "pestcide_data"
   ]
  },
  {
   "cell_type": "code",
   "execution_count": 19,
   "id": "innovative-developer",
   "metadata": {},
   "outputs": [
    {
     "data": {
      "text/plain": [
       "2"
      ]
     },
     "execution_count": 19,
     "metadata": {},
     "output_type": "execute_result"
    }
   ],
   "source": [
    "cur.execute('select compound_id from compounds where compound_name=%s', [pestcide_data[0]])\n",
    "compound_id = cur.fetchone()[0]\n",
    "compound_id"
   ]
  },
  {
   "cell_type": "code",
   "execution_count": 20,
   "id": "suspected-summer",
   "metadata": {},
   "outputs": [
    {
     "data": {
      "text/plain": [
       "1"
      ]
     },
     "execution_count": 20,
     "metadata": {},
     "output_type": "execute_result"
    }
   ],
   "source": [
    "cur.execute('select county_id from counties where state_code=%s and county_code=%s', [pestcide_data[2], pestcide_data[3]])\n",
    "county_id = cur.fetchone()[0]\n",
    "county_id"
   ]
  },
  {
   "cell_type": "code",
   "execution_count": 21,
   "id": "ignored-spine",
   "metadata": {},
   "outputs": [],
   "source": [
    "pestcide_usage_data = (compound_id, pestcide_data[1], county_id, pestcide_data[4], pestcide_data[5])\n",
    "cur.execute(pestcide_usage_table_insert, pestcide_usage_data)\n",
    "conn.commit()"
   ]
  },
  {
   "cell_type": "markdown",
   "id": "martial-guest",
   "metadata": {},
   "source": [
    "# Test data"
   ]
  },
  {
   "cell_type": "code",
   "execution_count": 22,
   "id": "military-cheat",
   "metadata": {},
   "outputs": [
    {
     "data": {
      "text/plain": [
       "(1, 2, 2015, 1, Decimal('3243.5'), Decimal('3363.2'))"
      ]
     },
     "execution_count": 22,
     "metadata": {},
     "output_type": "execute_result"
    }
   ],
   "source": [
    "cur.execute('select * from pestcide_use limit 5')\n",
    "cur.fetchone()"
   ]
  },
  {
   "cell_type": "markdown",
   "id": "alien-tomorrow",
   "metadata": {},
   "source": [
    "# Close Connection"
   ]
  },
  {
   "cell_type": "code",
   "execution_count": 23,
   "id": "blocked-deficit",
   "metadata": {},
   "outputs": [],
   "source": [
    "conn.close()"
   ]
  },
  {
   "cell_type": "code",
   "execution_count": null,
   "id": "incoming-probability",
   "metadata": {},
   "outputs": [],
   "source": []
  }
 ],
 "metadata": {
  "kernelspec": {
   "display_name": "Python 3",
   "language": "python",
   "name": "python3"
  },
  "language_info": {
   "codemirror_mode": {
    "name": "ipython",
    "version": 3
   },
   "file_extension": ".py",
   "mimetype": "text/x-python",
   "name": "python",
   "nbconvert_exporter": "python",
   "pygments_lexer": "ipython3",
   "version": "3.8.10"
  }
 },
 "nbformat": 4,
 "nbformat_minor": 5
}
